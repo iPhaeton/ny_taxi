{
 "cells": [
  {
   "cell_type": "code",
   "execution_count": 26,
   "metadata": {},
   "outputs": [],
   "source": [
    "import matplotlib.pyplot as plt\n",
    "from ipyleaflet import Map, basemaps, basemap_to_tiles, Rectangle, LayerGroup\n",
    "import pandas\n",
    "from ipywidgets import widgets\n",
    "from IPython.display import display"
   ]
  },
  {
   "cell_type": "code",
   "execution_count": 27,
   "metadata": {},
   "outputs": [],
   "source": [
    "def get_color_map(colors, min_value):\n",
    "    result = []\n",
    "    for i in range(0, len(colors)):\n",
    "        color = [];\n",
    "        for j in range(0,3):\n",
    "            color.append(int(255 * colors[i, j]))\n",
    "        if (i < min_value):\n",
    "            color.append(0.0)\n",
    "        else:\n",
    "            color.append(1.0)\n",
    "        result.append(tuple(color))\n",
    "    return result"
   ]
  },
  {
   "cell_type": "code",
   "execution_count": 28,
   "metadata": {},
   "outputs": [],
   "source": [
    "def get_rectangles(regions, data, color_map):\n",
    "    rectangles = []\n",
    "    for i in range(0, regions.shape[0]):\n",
    "        region = regions.iloc[i, 0];\n",
    "        west = regions.iloc[i, 1];\n",
    "        east = regions.iloc[i, 2];\n",
    "        south = regions.iloc[i, 3];\n",
    "        north = regions.iloc[i, 4];\n",
    "        \n",
    "        color = color_map[int(data[data['region'] == region]['value'].sum())]\n",
    "        \n",
    "        rectangle = Rectangle(\n",
    "            bounds=((north, east), (south, west)), \n",
    "            fill_color=\"#{:02x}{:02x}{:02x}\".format(color[0], color[1], color[2]), \n",
    "            stroke=False, \n",
    "            fill_opacity=0.9\n",
    "        )\n",
    "        rectangles.append(rectangle)\n",
    "    return LayerGroup(layers=rectangles)"
   ]
  },
  {
   "cell_type": "code",
   "execution_count": 29,
   "metadata": {},
   "outputs": [],
   "source": [
    "def refactor_timestamp(timestamp):\n",
    "    split_timestamp = timestamp.split(' ')\n",
    "    if (len(split_timestamp[1]) == 1):\n",
    "        return split_timestamp[0] + ' 0' + split_timestamp[1]\n",
    "    else:\n",
    "        return timestamp"
   ]
  },
  {
   "cell_type": "code",
   "execution_count": 30,
   "metadata": {},
   "outputs": [],
   "source": [
    "def rerender(m, old_layer, new_layer):\n",
    "    if (old_layer != None):\n",
    "        m.remove_layer(old_layer)\n",
    "    m.add_layer(new_layer)"
   ]
  },
  {
   "cell_type": "code",
   "execution_count": 31,
   "metadata": {},
   "outputs": [],
   "source": [
    "def show_results(regions, data, color_map):\n",
    "    global current_layer\n",
    "    layer_group = get_rectangles(regions, data, color_map)\n",
    "    rerender(m, current_layer, layer_group)\n",
    "    current_layer = layer_group"
   ]
  },
  {
   "cell_type": "code",
   "execution_count": 32,
   "metadata": {},
   "outputs": [],
   "source": [
    "def get_options(start, stop):\n",
    "    days = []\n",
    "    for d in range(start, stop):\n",
    "        days.append(str(d))\n",
    "    return days"
   ]
  },
  {
   "cell_type": "code",
   "execution_count": 33,
   "metadata": {},
   "outputs": [],
   "source": [
    "def get_value_string(day):\n",
    "    if len(day) == 2:\n",
    "        return day\n",
    "    else:\n",
    "        return '0' + day"
   ]
  },
  {
   "cell_type": "code",
   "execution_count": 34,
   "metadata": {},
   "outputs": [],
   "source": [
    "data = pandas.read_csv('./2016-06.csv')\n",
    "relevant_regions = pandas.read_csv('./relevant_regions.csv', header=-1, names=['0', 'region'])\n",
    "regions_full = pandas.read_csv('./regions.csv', delimiter=';')\n",
    "regions = regions_full[regions_full['region'].isin(relevant_regions['region'])]"
   ]
  },
  {
   "cell_type": "code",
   "execution_count": 35,
   "metadata": {},
   "outputs": [],
   "source": [
    "predictions_full = pandas.read_csv('./2016_06_predictions_regression_ext.csv')\n",
    "\n",
    "timestamp = predictions_full['id'].apply(lambda x: x[5:18].replace('_', ' ').strip()).apply(refactor_timestamp)\n",
    "region = predictions_full['id'].apply(lambda x: int(x[0:4]))\n",
    "prediction_number = predictions_full['id'].apply(lambda x: int(x[18:].replace('_', ' ').strip()))\n",
    "\n",
    "predictions_full['timestamp'] = timestamp\n",
    "predictions_full['region'] = region\n",
    "predictions_full['prediction_number'] = prediction_number\n",
    "predictions_full = predictions_full.rename(columns={'y': 'value'})\n",
    "\n",
    "predictions = predictions_full[predictions_full['prediction_number'] == 1]"
   ]
  },
  {
   "cell_type": "code",
   "execution_count": 36,
   "metadata": {},
   "outputs": [
    {
     "data": {
      "text/plain": [
       "<matplotlib.colorbar.Colorbar at 0x118c61890>"
      ]
     },
     "execution_count": 36,
     "metadata": {},
     "output_type": "execute_result"
    },
    {
     "data": {
      "image/png": "[encoded data removed]",
      "text/plain": [
       "<matplotlib.figure.Figure at 0x116c13a50>"
      ]
     },
     "metadata": {},
     "output_type": "display_data"
    }
   ],
   "source": [
    "x = y = t = range(0, 2060 + 1)\n",
    "plot = plt.scatter(x, y, c=t)\n",
    "plt.colorbar()"
   ]
  },
  {
   "cell_type": "code",
   "execution_count": 37,
   "metadata": {},
   "outputs": [],
   "source": [
    "color_map = get_color_map(plot.to_rgba(x), 0)"
   ]
  },
  {
   "cell_type": "markdown",
   "metadata": {},
   "source": [
    "----------------------------------------------------------------------------------------------------------"
   ]
  },
  {
   "cell_type": "code",
   "execution_count": 38,
   "metadata": {},
   "outputs": [],
   "source": [
    "chosen_data = data\n",
    "chosen_day = '1'\n",
    "chosen_hour = '0'"
   ]
  },
  {
   "cell_type": "code",
   "execution_count": 39,
   "metadata": {},
   "outputs": [],
   "source": [
    "chosen_data_value = 0\n",
    "\n",
    "dropdown_data = widgets.Dropdown(\n",
    "    options={'Real': 0, 'Predictions': 1},\n",
    "    value=0,\n",
    "    description='Data:',\n",
    "    disabled=False,\n",
    ")\n",
    "\n",
    "def handle_data_submit(data_value):\n",
    "    global chosen_data\n",
    "    global chosen_data_value\n",
    "    if data_value.owner.value != chosen_data_value:\n",
    "        if data_value.owner.value == 0:\n",
    "            chosen_data = data\n",
    "        else:\n",
    "            chosen_data = predictions\n",
    "    \n",
    "        chosen_data_value = data_value.owner.value\n",
    "        show_results(\n",
    "            regions, \n",
    "            chosen_data[chosen_data['timestamp'] == '2016-06-' + get_value_string(chosen_day) + ' ' + get_value_string(chosen_hour)],\n",
    "            color_map,\n",
    "        )\n",
    "        \n",
    "dropdown_data.observe(handle_data_submit)"
   ]
  },
  {
   "cell_type": "code",
   "execution_count": 40,
   "metadata": {},
   "outputs": [],
   "source": [
    "dropdown_day = widgets.Dropdown(\n",
    "    options=get_options(1, 31),\n",
    "    value='1',\n",
    "    description='Day:',\n",
    "    disabled=False,\n",
    ")\n",
    "\n",
    "def handle_day_submit(day):\n",
    "    global chosen_day\n",
    "    if day.owner.value != chosen_day:\n",
    "        chosen_day = day.owner.value\n",
    "        show_results(\n",
    "            regions, \n",
    "            chosen_data[chosen_data['timestamp'] == '2016-06-' + get_value_string(chosen_day) + ' ' + get_value_string(chosen_hour)],\n",
    "            color_map,\n",
    "        )\n",
    "    \n",
    "dropdown_day.observe(handle_day_submit)"
   ]
  },
  {
   "cell_type": "code",
   "execution_count": 41,
   "metadata": {},
   "outputs": [],
   "source": [
    "dropdown_hour = widgets.Dropdown(\n",
    "    options=get_options(0, 24),\n",
    "    value='0',\n",
    "    description='Hour:',\n",
    "    disabled=False,\n",
    ")\n",
    "\n",
    "def handle_hour_submit(hour):\n",
    "    global chosen_hour\n",
    "    if hour.owner.value != chosen_hour:\n",
    "        chosen_hour = hour.owner.value\n",
    "        show_results(\n",
    "            regions, \n",
    "            chosen_data[chosen_data['timestamp'] == '2016-06-' + get_value_string(chosen_day) + ' ' + get_value_string(chosen_hour)],\n",
    "            color_map,\n",
    "        )\n",
    "    \n",
    "dropdown_hour.observe(handle_hour_submit)"
   ]
  },
  {
   "cell_type": "code",
   "execution_count": 42,
   "metadata": {},
   "outputs": [
    {
     "data": {
      "application/vnd.jupyter.widget-view+json": {
       "model_id": "22084c2713354511a54917f056c41b30",
       "version_major": 2,
       "version_minor": 0
      },
      "text/html": [
       "<p>Failed to display Jupyter Widget of type <code>Map</code>.</p>\n",
       "<p>\n",
       "  If you're reading this message in the Jupyter Notebook or JupyterLab Notebook, it may mean\n",
       "  that the widgets JavaScript is still loading. If this message persists, it\n",
       "  likely means that the widgets JavaScript library is either not installed or\n",
       "  not enabled. See the <a href=\"https://ipywidgets.readthedocs.io/en/stable/user_install.html\">Jupyter\n",
       "  Widgets Documentation</a> for setup instructions.\n",
       "</p>\n",
       "<p>\n",
       "  If you're reading this message in another frontend (for example, a static\n",
       "  rendering on GitHub or <a href=\"https://nbviewer.jupyter.org/\">NBViewer</a>),\n",
       "  it may mean that your frontend doesn't currently support widgets.\n",
       "</p>\n"
      ],
      "text/plain": [
       "Map(basemap={'url': 'https://{s}.tile.openstreetmap.org/{z}/{x}/{y}.png', 'max_zoom': 19, 'attribution': 'Map data (c) <a href=\"https://openstreetmap.org\">OpenStreetMap</a> contributors'}, center=[40.75, -74.0], layers=(TileLayer(base=True, max_zoom=19, min_zoom=1, options=[u'attribution', u'tile_size', u'min_zoom', u'max_zoom', u'detect_retina']),), options=[u'keyboard_pan_offset', u'tap', u'attribution_control', u'max_zoom', u'min_zoom', u'bounce_at_zoom_limits', u'keyboard', u'scroll_wheel_zoom', u'dragging', u'inertia_max_speed', u'close_popup_on_click', u'zoom_control', u'box_zoom', u'double_click_zoom', u'interpolation', u'tap_tolerance', u'zoom_start', u'keyboard_zoom_offset', u'inertia_deceleration', u'inertia', u'center', u'zoom', u'world_copy_jump', u'zoom_animation_threshold', u'touch_zoom', u'basemap'], zoom=10)"
      ]
     },
     "metadata": {},
     "output_type": "display_data"
    }
   ],
   "source": [
    "new_york_coordinates = (40.75, -74.00)\n",
    "m = Map(center=new_york_coordinates, zoom=10)\n",
    "m"
   ]
  },
  {
   "cell_type": "code",
   "execution_count": 43,
   "metadata": {},
   "outputs": [],
   "source": [
    "current_layer = None\n",
    "show_results(regions, data[data['timestamp'] == '2016-06-03 00'], color_map)"
   ]
  },
  {
   "cell_type": "markdown",
   "metadata": {},
   "source": [
    "--------------------------------------------------------------------------------------------------------------"
   ]
  },
  {
   "cell_type": "code",
   "execution_count": 44,
   "metadata": {},
   "outputs": [
    {
     "name": "stdout",
     "output_type": "stream",
     "text": [
      "Выберите реальные данные или предсказания\n"
     ]
    },
    {
     "data": {
      "application/vnd.jupyter.widget-view+json": {
       "model_id": "ae50d45e75d34f958fa163c91bc57b90",
       "version_major": 2,
       "version_minor": 0
      },
      "text/html": [
       "<p>Failed to display Jupyter Widget of type <code>Dropdown</code>.</p>\n",
       "<p>\n",
       "  If you're reading this message in the Jupyter Notebook or JupyterLab Notebook, it may mean\n",
       "  that the widgets JavaScript is still loading. If this message persists, it\n",
       "  likely means that the widgets JavaScript library is either not installed or\n",
       "  not enabled. See the <a href=\"https://ipywidgets.readthedocs.io/en/stable/user_install.html\">Jupyter\n",
       "  Widgets Documentation</a> for setup instructions.\n",
       "</p>\n",
       "<p>\n",
       "  If you're reading this message in another frontend (for example, a static\n",
       "  rendering on GitHub or <a href=\"https://nbviewer.jupyter.org/\">NBViewer</a>),\n",
       "  it may mean that your frontend doesn't currently support widgets.\n",
       "</p>\n"
      ],
      "text/plain": [
       "Dropdown(description=u'Data:', options={'Real': 0, 'Predictions': 1}, value=0)"
      ]
     },
     "metadata": {},
     "output_type": "display_data"
    }
   ],
   "source": [
    "print 'Выберите реальные данные или предсказания'\n",
    "display(dropdown_data)"
   ]
  },
  {
   "cell_type": "code",
   "execution_count": 45,
   "metadata": {},
   "outputs": [
    {
     "name": "stdout",
     "output_type": "stream",
     "text": [
      "Выберите день в июне 2016 года\n"
     ]
    },
    {
     "data": {
      "application/vnd.jupyter.widget-view+json": {
       "model_id": "df8790b102c240cc97252a5b2a88215b",
       "version_major": 2,
       "version_minor": 0
      },
      "text/html": [
       "<p>Failed to display Jupyter Widget of type <code>Dropdown</code>.</p>\n",
       "<p>\n",
       "  If you're reading this message in the Jupyter Notebook or JupyterLab Notebook, it may mean\n",
       "  that the widgets JavaScript is still loading. If this message persists, it\n",
       "  likely means that the widgets JavaScript library is either not installed or\n",
       "  not enabled. See the <a href=\"https://ipywidgets.readthedocs.io/en/stable/user_install.html\">Jupyter\n",
       "  Widgets Documentation</a> for setup instructions.\n",
       "</p>\n",
       "<p>\n",
       "  If you're reading this message in another frontend (for example, a static\n",
       "  rendering on GitHub or <a href=\"https://nbviewer.jupyter.org/\">NBViewer</a>),\n",
       "  it may mean that your frontend doesn't currently support widgets.\n",
       "</p>\n"
      ],
      "text/plain": [
       "Dropdown(description=u'Day:', options=('1', '2', '3', '4', '5', '6', '7', '8', '9', '10', '11', '12', '13', '14', '15', '16', '17', '18', '19', '20', '21', '22', '23', '24', '25', '26', '27', '28', '29', '30'), value='1')"
      ]
     },
     "metadata": {},
     "output_type": "display_data"
    }
   ],
   "source": [
    "print 'Выберите день в июне 2016 года'\n",
    "display(dropdown_day)"
   ]
  },
  {
   "cell_type": "code",
   "execution_count": 46,
   "metadata": {},
   "outputs": [
    {
     "name": "stdout",
     "output_type": "stream",
     "text": [
      "Выберите час\n"
     ]
    },
    {
     "data": {
      "application/vnd.jupyter.widget-view+json": {
       "model_id": "aaa9c5db3bab43ca97ed40a3e447be7c",
       "version_major": 2,
       "version_minor": 0
      },
      "text/html": [
       "<p>Failed to display Jupyter Widget of type <code>Dropdown</code>.</p>\n",
       "<p>\n",
       "  If you're reading this message in the Jupyter Notebook or JupyterLab Notebook, it may mean\n",
       "  that the widgets JavaScript is still loading. If this message persists, it\n",
       "  likely means that the widgets JavaScript library is either not installed or\n",
       "  not enabled. See the <a href=\"https://ipywidgets.readthedocs.io/en/stable/user_install.html\">Jupyter\n",
       "  Widgets Documentation</a> for setup instructions.\n",
       "</p>\n",
       "<p>\n",
       "  If you're reading this message in another frontend (for example, a static\n",
       "  rendering on GitHub or <a href=\"https://nbviewer.jupyter.org/\">NBViewer</a>),\n",
       "  it may mean that your frontend doesn't currently support widgets.\n",
       "</p>\n"
      ],
      "text/plain": [
       "Dropdown(description=u'Hour:', options=('0', '1', '2', '3', '4', '5', '6', '7', '8', '9', '10', '11', '12', '13', '14', '15', '16', '17', '18', '19', '20', '21', '22', '23'), value='0')"
      ]
     },
     "metadata": {},
     "output_type": "display_data"
    }
   ],
   "source": [
    "print 'Выберите час'\n",
    "display(dropdown_hour)"
   ]
  }
 ],
 "metadata": {
  "kernelspec": {
   "display_name": "Python 2",
   "language": "python",
   "name": "python2"
  },
  "language_info": {
   "codemirror_mode": {
    "name": "ipython",
    "version": 2
   },
   "file_extension": ".py",
   "mimetype": "text/x-python",
   "name": "python",
   "nbconvert_exporter": "python",
   "pygments_lexer": "ipython2",
   "version": "2.7.14"
  }
 },
 "nbformat": 4,
 "nbformat_minor": 2
}
